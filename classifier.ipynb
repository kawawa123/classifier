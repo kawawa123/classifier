{
  "nbformat": 4,
  "nbformat_minor": 0,
  "metadata": {
    "colab": {
      "name": "classifier.ipynb",
      "provenance": [],
      "collapsed_sections": [],
      "include_colab_link": true
    },
    "kernelspec": {
      "display_name": "Python 3",
      "language": "python",
      "name": "python3"
    },
    "language_info": {
      "codemirror_mode": {
        "name": "ipython",
        "version": 3
      },
      "file_extension": ".py",
      "mimetype": "text/x-python",
      "name": "python",
      "nbconvert_exporter": "python",
      "pygments_lexer": "ipython3",
      "version": "3.7.7"
    }
  },
  "cells": [
    {
      "cell_type": "markdown",
      "metadata": {
        "id": "view-in-github",
        "colab_type": "text"
      },
      "source": [
        "<a href=\"https://colab.research.google.com/github/kawawa123/classifier/blob/master/classifier.ipynb\" target=\"_parent\"><img src=\"https://colab.research.google.com/assets/colab-badge.svg\" alt=\"Open In Colab\"/></a>"
      ]
    },
    {
      "cell_type": "code",
      "metadata": {
        "colab_type": "code",
        "id": "-5Mc0BZ-k6Wj",
        "colab": {}
      },
      "source": [
        "#https://scikit-learn.org/stable/modules/classes.html#module-sklearn.metrics\n",
        "#scikit-learnのライブラリ"
      ],
      "execution_count": 0,
      "outputs": []
    },
    {
      "cell_type": "code",
      "metadata": {
        "id": "TKNtdd7ZaXYq",
        "colab_type": "code",
        "colab": {}
      },
      "source": [
        "#aaa"
      ],
      "execution_count": 0,
      "outputs": []
    },
    {
      "cell_type": "code",
      "metadata": {
        "colab_type": "code",
        "id": "2EhGt00RYupe",
        "colab": {}
      },
      "source": [
        "#可視化ツール\n",
        "#「pandas_profiling」はバージョンの都合で現在利用できない\n",
        "#pivottablejs\n"
      ],
      "execution_count": 0,
      "outputs": []
    },
    {
      "cell_type": "code",
      "metadata": {
        "colab_type": "code",
        "id": "YS0x-fUahXYm",
        "colab": {}
      },
      "source": [
        "#http://tekenuko.hatenablog.com/entry/2017/10/13/225354\n",
        "#https://qiita.com/Mt_Taka/items/e12694aa5a7ed9539216\n",
        "#https://qiita.com/shin_mura/items/8f1aa1ec90fa4ad6253e\n",
        "#catboost"
      ],
      "execution_count": 0,
      "outputs": []
    },
    {
      "cell_type": "code",
      "metadata": {
        "colab_type": "code",
        "id": "Dzbe7ZmFRcjc",
        "colab": {}
      },
      "source": [
        "#「google colab」と「google drive」を接続\n",
        "from google.colab import drive\n",
        "drive.mount('/content/drive')"
      ],
      "execution_count": 0,
      "outputs": []
    },
    {
      "cell_type": "code",
      "metadata": {
        "colab_type": "code",
        "id": "KDmv6jKlRqzd",
        "colab": {}
      },
      "source": [
        "#「kaggle」にアクセスできるようにする\n",
        "#https://www.dragonarrow.work/articles/216\n",
        "import os\n",
        "import json\n",
        "f = open(\"/content/drive/My Drive/kaggle/kaggle.json\", 'r')\n",
        "\n",
        "json_data = json.load(f) #JSON形式で読み込む\n",
        "os.environ['KAGGLE_USERNAME'] = json_data['username']\n",
        "os.environ['KAGGLE_KEY'] = json_data['key']\n",
        "# print(\"KAGGLE_USERNAME: \" + os.environ[\"KAGGLE_USERNAME\"])\n",
        "# print(\"KAGGLE_KEY: \" + os.environ[\"KAGGLE_KEY\"])"
      ],
      "execution_count": 0,
      "outputs": []
    },
    {
      "cell_type": "code",
      "metadata": {
        "colab_type": "code",
        "id": "B-uks-ObVMbS",
        "colab": {}
      },
      "source": [
        "!kaggle competitions download -c titanic"
      ],
      "execution_count": 0,
      "outputs": []
    },
    {
      "cell_type": "code",
      "metadata": {
        "colab_type": "code",
        "id": "tsM0e4BfVgDo",
        "colab": {}
      },
      "source": [
        "import pandas as pd\n",
        "train = pd.read_csv('/content/train.csv')\n",
        "test = pd.read_csv('/content/test.csv')"
      ],
      "execution_count": 0,
      "outputs": []
    },
    {
      "cell_type": "code",
      "metadata": {
        "colab_type": "code",
        "id": "70OwBxmmTzm-",
        "colab": {}
      },
      "source": [
        "#何度も利用する時のやり方\n",
        "'''\n",
        "!more kaggle.json\n",
        "# kaggle.jsonをアップロードする\n",
        "\n",
        "!mkdir -p ~/.kaggle\n",
        "!cp kaggle.json ~/.kaggle/\n",
        "!pip install kaggle\n",
        "!chmod 600 /root/.kaggle/kaggle.json\n",
        "\n",
        "# kaggle APIキーを打ち込む（コンペごとに異なる）\n",
        "!kaggle competitions download -c titanic\n",
        "\n",
        "# ディレクトリinputを作成\n",
        "!mkdir input\n",
        "\n",
        "# ファイルの移動\n",
        "!mv train.csv input\n",
        "!mv test.csv input\n",
        "'''"
      ],
      "execution_count": 0,
      "outputs": []
    },
    {
      "cell_type": "code",
      "metadata": {
        "colab_type": "code",
        "id": "dWstZcmi6FF3",
        "colab": {}
      },
      "source": [
        "#一番最初は必要なライブラリのインストール\n",
        "!pip install optuna\n",
        "!pip install heamy\n",
        "!pip install catboost"
      ],
      "execution_count": 0,
      "outputs": []
    },
    {
      "cell_type": "code",
      "metadata": {
        "colab_type": "code",
        "id": "LHadjtG2V6Td",
        "colab": {}
      },
      "source": [
        "!git clone https://github.com/h2oai/pystacknet\n",
        "!pip install \"/content/pystacknet\"\n",
        "\n",
        "\n",
        "'''\n",
        "!git clone https://gitlab.com/YannBerthelot/kaggle_pystacknet.git\n",
        "print(os.listdir(\"kaggle_pystacknet/pystacknet\"))\n",
        "!pip install \"kaggle_pystacknet/pystacknet\"\n",
        "import pystacknet\n",
        "'''\n",
        "#「pystacknet」はこちらに変えるかもしれない\n",
        "#参考ＵＲＬ\n",
        "#https://www.kaggle.com/yannberthelot/pystacknet-working-implementation"
      ],
      "execution_count": 0,
      "outputs": []
    },
    {
      "cell_type": "code",
      "metadata": {
        "colab_type": "code",
        "id": "SECvm31ZCztS",
        "colab": {}
      },
      "source": [
        "#環境設定\n",
        "import pandas as pd\n",
        "import numpy as np\n",
        "import optuna\n",
        "from sklearn.datasets import load_iris\n",
        "from sklearn.model_selection import train_test_split\n",
        "from sklearn.ensemble import RandomForestClassifier\n",
        "from sklearn.svm import SVC\n",
        "from sklearn.model_selection import StratifiedKFold, cross_validate\n",
        "\n",
        "from sklearn.metrics import accuracy_score\n",
        "from sklearn.metrics import confusion_matrix,plot_confusion_matrix\n",
        "#多分類モデルに必要"
      ],
      "execution_count": 0,
      "outputs": []
    },
    {
      "cell_type": "code",
      "metadata": {
        "colab_type": "code",
        "id": "yULhmPlS58QE",
        "colab": {}
      },
      "source": [
        "#「iris」データ\n",
        "iris = load_iris()\n",
        "X = iris.data\n",
        "y = iris.target\n",
        "#ここの「y」の数で、「カテゴリ分析」かどうかの判断ができると思う\n",
        "X_train, X_test, y_train, y_test = train_test_split(X, y, test_size=0.2)\n",
        "#train,validate,testの三つに分けてもいいかも\n"
      ],
      "execution_count": 0,
      "outputs": []
    },
    {
      "cell_type": "code",
      "metadata": {
        "colab_type": "code",
        "id": "NDvLOf6xyQAq",
        "colab": {}
      },
      "source": [
        "import pandas as pd\n",
        "train_df = pd.read_csv('/content/train.csv')\n",
        "test_df = pd.read_csv('/content/test.csv')\n",
        "\n",
        "train_df.isnull().sum()\n",
        "#列ごとに「null」の数をカウントできる\n",
        "train_df.fillna(-999,inplace=True)\n",
        "test_df.fillna(-999,inplace=True)\n",
        "#nullを一括で「-999」に変更する\n",
        "\n",
        "x=train_df.drop('Survived',axis=1)\n",
        "y=train_df.Survived\n",
        "#今回は「survived」を予測するモデル\n",
        "\n",
        "x.dtypes\n",
        "#変数のタイプを調べる\n",
        "cfi = np.where(x.dtypes != float)[0]\n",
        "#［categorical_features_indices］\n",
        "#カテゴリカル変数として扱う要素\n",
        "\n",
        "\n",
        "X_train, X_test, y_train, y_test = train_test_split(x, y, test_size = 0.2)\n"
      ],
      "execution_count": 0,
      "outputs": []
    },
    {
      "cell_type": "code",
      "metadata": {
        "colab_type": "code",
        "id": "t81e_s90RR4S",
        "colab": {}
      },
      "source": [
        "cv=5\n",
        "#交差検証の等分数\n"
      ],
      "execution_count": 0,
      "outputs": []
    },
    {
      "cell_type": "code",
      "metadata": {
        "colab_type": "code",
        "id": "121Nk1SRSUXj",
        "colab": {}
      },
      "source": [
        "#https://github.com/optuna/optuna/issues/1001\n",
        "#「early stop」に関する参考ＵＲＬ\n",
        "OPTUNA_EARLY_STOPING = 10\n",
        "\n",
        "class EarlyStoppingExceeded(optuna.exceptions.OptunaError):\n",
        "    early_stop = OPTUNA_EARLY_STOPING\n",
        "    early_stop_count = 0\n",
        "    best_score = None\n",
        "\n",
        "def early_stopping_opt(study, trial):\n",
        "    if EarlyStoppingExceeded.best_score == None:\n",
        "      EarlyStoppingExceeded.best_score = study.best_value\n",
        "\n",
        "    if study.best_value < EarlyStoppingExceeded.best_score:\n",
        "        EarlyStoppingExceeded.best_score = study.best_value\n",
        "        EarlyStoppingExceeded.early_stop_count = 0\n",
        "    else:\n",
        "      if EarlyStoppingExceeded.early_stop_count > EarlyStoppingExceeded.early_stop:\n",
        "            EarlyStoppingExceeded.early_stop_count = 0\n",
        "            best_score = None\n",
        "            raise EarlyStoppingExceeded()\n",
        "      else:\n",
        "            EarlyStoppingExceeded.early_stop_count=EarlyStoppingExceeded.early_stop_count+1\n",
        "    #print(f'EarlyStop counter: {EarlyStoppingExceeded.early_stop_count}, Best score: {study.best_value} and {EarlyStoppingExceeded.best_score}')\n",
        "    return\n"
      ],
      "execution_count": 0,
      "outputs": []
    },
    {
      "cell_type": "markdown",
      "metadata": {
        "colab_type": "text",
        "id": "z2C-MKHv_Srj"
      },
      "source": [
        "# クラス分けモデル\n",
        "1. RandomForestClassifier\n",
        "2. ExtraTreesClassifier\n",
        "3. XGBT\n",
        "4. LGBM\n",
        "\n",
        "## optuna\n",
        "- 選択  \n",
        "> # trial.suggest_categorical   \n",
        ">>\n",
        ">ex. ) 活性化関数にreluとsigmoidのどちらかを選択するとき  \n",
        "`activation = trial.suggest_categorical('activation', ['relu', 'sigmoid'])`\n",
        "-  数値の自動調整\n",
        "> 1. trial.suggest_discrete_uniform(a, b, c)  \n",
        "> 区間[a, b]内を刻み幅cで区切り、最適値を探します。\n",
        ">>\n",
        "> 2. trial.suggest_uniform(a, b)  \n",
        "> 区間[a, b]内で最適値を探します。  \n",
        "ex. ) Dropout率を0から1の間で調整するとき  \n",
        "`dropout_rate = trial.suggest_uniform('dropout_rate', 0, 1)`\n",
        "> 3. trial.suggest_int  \n",
        "> int型での調整  \n",
        "ex. ) 隠れ層のユニット数を[100, 101, ... 499, 500]のどれかから選ぶとき  \n",
        "`mid_units = int(trial.suggest_discrete_uniform('mid_units', 100, 500, 1))`  \n",
        "`mid_units = trial.suggest_int('mid_units', 100, 500)`\n",
        "-  層の数を増やしたい\n",
        "> # forを利用した計算  \n",
        "ex. ) for文を使いユニット数100、活性化関数reluの層を増やすとき  \n",
        "`n_layer = trial.suggest_int('n_layer', 1, 3)`  \n",
        "`for i in range(n_layer):`  \n",
        "`    model.add(Dense('100', activation='relu'))`\n",
        "\n",
        "\n",
        "\n",
        "\n",
        "\n",
        "\n"
      ]
    },
    {
      "cell_type": "code",
      "metadata": {
        "colab_type": "code",
        "id": "5G9sP6lLLLrQ",
        "colab": {}
      },
      "source": [
        "\n",
        "/content/drive/My Drive/Colab Notebooks/ml/classifier"
      ],
      "execution_count": 0,
      "outputs": []
    },
    {
      "cell_type": "code",
      "metadata": {
        "id": "1KV7qCyGaT2w",
        "colab_type": "code",
        "colab": {},
        "outputId": "56efb6b6-cc46-4b87-a262-2765abfdc0d3"
      },
      "source": [
        "import os \n",
        "os.getcwd()"
      ],
      "execution_count": 0,
      "outputs": [
        {
          "output_type": "execute_result",
          "data": {
            "text/plain": [
              "'C:\\\\Users\\\\yuyak\\\\Google ドライブ\\\\Colab Notebooks\\\\ml\\\\classifier\\\\script'"
            ]
          },
          "metadata": {
            "tags": []
          },
          "execution_count": 6
        }
      ]
    },
    {
      "cell_type": "code",
      "metadata": {
        "id": "UU_74h46aT22",
        "colab_type": "code",
        "colab": {}
      },
      "source": [
        "\n",
        "\n",
        "print(2+2)"
      ],
      "execution_count": 0,
      "outputs": []
    },
    {
      "cell_type": "code",
      "metadata": {
        "colab_type": "code",
        "id": "OXsiAxShLsXu",
        "colab": {}
      },
      "source": [
        "with open('drive/My Drive/python_lib/ori.py',encoding='utf-8') as f:\n",
        "  code = f.read()\n",
        "  exec(code)\n",
        "\n",
        "#必要なライブラリをすべてimportする"
      ],
      "execution_count": 0,
      "outputs": []
    },
    {
      "cell_type": "code",
      "metadata": {
        "colab_type": "code",
        "id": "yoGF_33DQw7z",
        "colab": {}
      },
      "source": [
        "from sklearn.ensemble import RandomForestClassifier\n",
        "\n",
        "def objective(trial):\n",
        "    \n",
        "    param_grid_rfc = {\n",
        "        \"max_depth\": trial.suggest_int(\"max_depth\", 5, 15),\n",
        "        \"min_samples_leaf\": trial.suggest_int(\"min_samples_leaf\", 1, 5),\n",
        "        'min_samples_split': trial.suggest_int(\"min_samples_split\", 7, 15),\n",
        "        \"criterion\": trial.suggest_categorical(\"criterion\", [\"gini\", \"entropy\"]),\n",
        "        #'max_features': trial.suggest_int(\"max_features\", 3, 10),\n",
        "        'max_features': 'auto',\n",
        "        \"random_state\": 0\n",
        "    }\n",
        "\n",
        "    model = RandomForestClassifier(**param_grid_rfc)\n",
        "    \n",
        "    # 5-Fold CV / Accuracy でモデルを評価する\n",
        "    kf = StratifiedKFold(n_splits=5, shuffle=True, random_state=0)\n",
        "    scores = cross_validate(model, X=X_train, y=y_train, cv=kf)\n",
        "    # 最小化なので 1.0 からスコアを引く\n",
        "    return scores['test_score'].mean()\n",
        "\n",
        "study = optuna.create_study(direction='maximize')\n",
        "try:\n",
        "    study.optimize(objective, n_trials=50,timeout=60, callbacks=[early_stopping_opt])\n",
        "except EarlyStoppingExceeded:\n",
        "    print(f'EarlyStopping Exceeded: No new best scores on iters {OPTUNA_EARLY_STOPING}')\n",
        "\n",
        "\n",
        "train_rf=study.best_value\n",
        "rfc_best_param = study.best_params\n",
        "\n"
      ],
      "execution_count": 0,
      "outputs": []
    },
    {
      "cell_type": "code",
      "metadata": {
        "colab_type": "code",
        "id": "fxMkL5mh7asQ",
        "colab": {}
      },
      "source": [
        "from sklearn.ensemble import ExtraTreesClassifier\n",
        "\n",
        "def objective(trial):\n",
        "    \n",
        "    param_grid_etc = {\n",
        "        \"max_depth\": trial.suggest_int(\"max_depth\", 5, 15),\n",
        "        \"min_samples_leaf\": trial.suggest_int(\"min_samples_leaf\", 1, 5),\n",
        "        'min_samples_split': trial.suggest_int(\"min_samples_split\", 7, 15),\n",
        "        \"criterion\": trial.suggest_categorical(\"criterion\", [\"gini\", \"entropy\"]),\n",
        "        #'max_features': trial.suggest_int(\"max_features\", 3, 10),\n",
        "        'max_features': 'auto',\n",
        "        \"random_state\": 0\n",
        "    }\n",
        "\n",
        "    model = ExtraTreesClassifier(**param_grid_etc)\n",
        "    \n",
        "    # 5-Fold CV / Accuracy でモデルを評価する\n",
        "    kf = StratifiedKFold(n_splits=5, shuffle=True, random_state=0)\n",
        "    scores = cross_validate(model, X=X_train, y=y_train, cv=kf)\n",
        "    # 最小化なので 1.0 からスコアを引く\n",
        "    return scores['test_score'].mean()\n",
        "\n",
        "study = optuna.create_study(direction='maximize')\n",
        "try:\n",
        "    study.optimize(objective, n_trials=50,timeout=60, callbacks=[early_stopping_opt])\n",
        "except EarlyStoppingExceeded:\n",
        "    print(f'EarlyStopping Exceeded: No new best scores on iters {OPTUNA_EARLY_STOPING}')\n",
        "\n",
        "\n",
        "train_et=study.best_value\n",
        "etc_best_param = study.best_params\n",
        "\n"
      ],
      "execution_count": 0,
      "outputs": []
    },
    {
      "cell_type": "code",
      "metadata": {
        "colab_type": "code",
        "id": "1MKqDccwsZSO",
        "colab": {}
      },
      "source": [
        "from xgboost import XGBClassifier\n",
        "def objective(trial):\n",
        "    \n",
        "    param_grid_xgb = {\n",
        "        'min_child_weight': trial.suggest_int(\"min_child_weight\", 1, 5),\n",
        "        'gamma': trial.suggest_discrete_uniform(\"gamma\", 0.1, 1.0, 0.1),\n",
        "        'subsample': trial.suggest_discrete_uniform(\"subsample\", 0.5, 1.0, 0.1),\n",
        "        'colsample_bytree': trial.suggest_discrete_uniform(\"colsample_bytree\", 0.5, 1.0, 0.1),\n",
        "        'max_depth': trial.suggest_int(\"max_depth\", 3, 10),\n",
        "        \"random_state\": 0\n",
        "    }\n",
        "\n",
        "    model = XGBClassifier(**param_grid_xgb)\n",
        "    \n",
        "    # 5-Fold CV / Accuracy でモデルを評価する\n",
        "    kf = StratifiedKFold(n_splits=5, shuffle=True, random_state=0)\n",
        "    scores = cross_validate(model, X=X_train, y=y_train, cv=kf)\n",
        "    # 最小化なので 1.0 からスコアを引く\n",
        "    return scores['test_score'].mean()\n",
        "\n",
        "\n",
        "\n",
        "\n",
        "study = optuna.create_study(direction='maximize')\n",
        "try:\n",
        "    study.optimize(objective, n_trials=50,timeout=60, callbacks=[early_stopping_opt])\n",
        "except EarlyStoppingExceeded:\n",
        "    print(f'EarlyStopping Exceeded: No new best scores on iters {OPTUNA_EARLY_STOPING}')\n",
        "\n",
        "train_xg=study.best_value\n",
        "xgb_best_param = study.best_params"
      ],
      "execution_count": 0,
      "outputs": []
    },
    {
      "cell_type": "code",
      "metadata": {
        "colab_type": "code",
        "id": "IbzUqnaWsxGB",
        "colab": {}
      },
      "source": [
        "#https://lightgbm.readthedocs.io/en/latest/Parameters-Tuning.html\n",
        "#パラメーターのチューニング情報\n",
        "from lightgbm import LGBMClassifier\n",
        "\n",
        "def objective(trial):\n",
        "    \n",
        "    param_grid_lgb = {\n",
        "        'num_leaves': trial.suggest_int(\"num_leaves\", 3, 10),                      ##大規模データの時は「70～80」\n",
        "        'learning_rate': trial.suggest_loguniform(\"learning_rate\", 1e-8, 1.0),\n",
        "        'max_depth': trial.suggest_int(\"max_depth\", 3, 10),\n",
        "        'min_data_in_leaf': trial.suggest_int('min_data_in_leaf', 100, 500)    #大規模データの時は「数百～数千」\n",
        "        \"random_state\": 0\n",
        "    }\n",
        "\n",
        "    model = LGBMClassifier(**param_grid_lgb)\n",
        "    \n",
        "    # 5-Fold CV / Accuracy でモデルを評価する\n",
        "    kf = StratifiedKFold(n_splits=5, shuffle=True, random_state=0)\n",
        "    scores = cross_validate(model, X=X_train, y=y_train, cv=kf)\n",
        "    # 最小化なので 1.0 からスコアを引く\n",
        "    return scores['test_score'].mean()\n",
        "\n",
        "\n",
        "study = optuna.create_study(direction='maximize')\n",
        "try:\n",
        "    study.optimize(objective, n_trials=50,timeout=60, callbacks=[early_stopping_opt])\n",
        "except EarlyStoppingExceeded:\n",
        "    print(f'EarlyStopping Exceeded: No new best scores on iters {OPTUNA_EARLY_STOPING}')\n",
        "\n",
        "print(study.best_params)\n",
        "print(study.best_value)\n",
        "train_lg=study.best_value\n",
        "lgb_best_param = study.best_params"
      ],
      "execution_count": 0,
      "outputs": []
    },
    {
      "cell_type": "code",
      "metadata": {
        "colab_type": "code",
        "id": "YztRydOuABI1",
        "colab": {}
      },
      "source": [
        ""
      ],
      "execution_count": 0,
      "outputs": []
    },
    {
      "cell_type": "code",
      "metadata": {
        "colab_type": "code",
        "id": "-M8nVFfU4X51",
        "colab": {}
      },
      "source": [
        "from sklearn.model_selection import train_test_split\n",
        "from catboost import Pool\n",
        "import sklearn.metrics\n",
        "\n",
        "train_pool = Pool(X_train, y_train, cat_features=cfi)\n",
        "test_pool = Pool(X_test, y_test, cat_features=cfi)\n",
        "\n",
        "def objective(trial):\n",
        "    # トレーニングデータとテストデータを分割\n",
        "    \n",
        "    '''\n",
        "    train_pool = Pool(X_train, y_train, cat_features=cfi)\n",
        "    test_pool = Pool(X_test, y_test, cat_features=cfi)\n",
        "    '''\n",
        "    # パラメータの指定\n",
        "    params = {\n",
        "        'iterations' : trial.suggest_int('iterations', 50, 300),                         \n",
        "        'depth' : trial.suggest_int('depth', 4, 10),                                       \n",
        "        'learning_rate' : trial.suggest_loguniform('learning_rate', 0.01, 0.3),               \n",
        "        'random_strength' :trial.suggest_int('random_strength', 0, 100),                       \n",
        "        'bagging_temperature' :trial.suggest_loguniform('bagging_temperature', 0.01, 100.00), \n",
        "        'od_type': trial.suggest_categorical('od_type', ['IncToDec', 'Iter']),\n",
        "        'od_wait' :trial.suggest_int('od_wait', 10, 50)\n",
        "    }\n",
        "\n",
        "    # 学習\n",
        "    model = CatBoostClassifier(**params)\n",
        "    model.fit(train_pool)\n",
        "    # 予測\n",
        "    preds = model.predict(test_pool)\n",
        "    pred_labels = np.rint(preds)\n",
        "    # 精度の計算\n",
        "    accuracy = sklearn.metrics.accuracy_score(y_test, pred_labels)\n",
        "    return 1.0 - accuracy"
      ],
      "execution_count": 0,
      "outputs": []
    },
    {
      "cell_type": "code",
      "metadata": {
        "colab_type": "code",
        "id": "S2EMqTA84xSY",
        "colab": {}
      },
      "source": [
        "study = optuna.create_study()\n",
        "study.optimize(objective, n_trials=10)\n",
        "print(study.best_trial)\n",
        "\n"
      ],
      "execution_count": 0,
      "outputs": []
    },
    {
      "cell_type": "code",
      "metadata": {
        "colab_type": "code",
        "id": "FGBNFzrA6JAV",
        "colab": {}
      },
      "source": [
        "model = CatBoostClassifier(**study.best_params)\n",
        "model.fit(train_pool)\n",
        "# 予測\n",
        "preds = model.predict(test_pool)\n",
        "pred_labels = np.rint(preds)\n"
      ],
      "execution_count": 0,
      "outputs": []
    },
    {
      "cell_type": "code",
      "metadata": {
        "colab_type": "code",
        "id": "LawGN4c56tyo",
        "colab": {}
      },
      "source": [
        "\n",
        "accuracy_score(preds,y_test.values)"
      ],
      "execution_count": 0,
      "outputs": []
    },
    {
      "cell_type": "code",
      "metadata": {
        "colab_type": "code",
        "id": "bW1hyWdCm9yl",
        "colab": {}
      },
      "source": [
        "#分析モデルが変更されたときは\n",
        "#スタッキングの一番最初の変数、「models」も変更する必要がある\n",
        "\n",
        "\n",
        "\n",
        "train_result=[train_rf,train_et,train_xg,train_lg]\n",
        "#一応、「train」データの結果をまとめておく\n",
        "\n",
        "\n",
        "estimators = [\n",
        "    ('rfc', RandomForestClassifier(**rfc_best_param)),\n",
        "    ('etc', ExtraTreesClassifier(**etc_best_param)),\n",
        "    \n",
        "    ('xgb', XGBClassifier(**xgb_best_param)),\n",
        "    ('lgb', LGBMClassifier(**lgb_best_param))\n",
        "]\n",
        "#分析する個別モデル\n",
        "model_names=['rf','et','xg','lg']\n"
      ],
      "execution_count": 0,
      "outputs": []
    },
    {
      "cell_type": "markdown",
      "metadata": {
        "colab_type": "text",
        "id": "WBoycJkdOYhv"
      },
      "source": [
        "# 全てのデータのテスト結果を計算"
      ]
    },
    {
      "cell_type": "code",
      "metadata": {
        "colab_type": "code",
        "id": "s0vF7WKsdJRB",
        "colab": {}
      },
      "source": [
        "#先に個別モデル\n",
        "#「estimators」は「クラス分けモデル」の最後に作った変数\n",
        "RESULT=[]\n",
        "for ii in range(len(estimators)):\n",
        "  model=estimators[ii][1]\n",
        "  model.fit(X_train, y_train)\n",
        "  y_pred = model.predict_proba(X_test)\n",
        "  #y_pred = lgb_best.predict_proba(X_test)\n",
        "  y_pred_max = np.argmax(y_pred, axis=1)  # 最尤と判断したクラスの値にする\n",
        "\n",
        "  # 精度 (Accuracy) を計算する\n",
        "  accuracy = sum(y_test == y_pred_max) / len(y_test)\n",
        "  RESULT.append(accuracy)\n",
        "  \n"
      ],
      "execution_count": 0,
      "outputs": []
    },
    {
      "cell_type": "markdown",
      "metadata": {
        "colab_type": "text",
        "id": "bDhjablPOY3j"
      },
      "source": [
        "# スタッキング\n",
        "1. Single Stacking\n",
        "2. Weight Average\n",
        "3. Multiple Stacking\n",
        "4. stacknet\n",
        "\n",
        "- 一般的に、データが複雑なほど「Multiple Stacking」や「Stacknet」の効果が上昇する  \n",
        "- スタッキングモデルは上の階層に行くごとに、モデルを減らす必要がある。  \n",
        "これは、オーバーフィッティングを防ぐためである\n",
        "\n",
        "\n",
        "## 参考URL\n",
        "- https://blog.ikedaosushi.com/entry/2018/12/15/212508\n",
        "- https://qiita.com/r2en/items/61b3b7fa70d2b65021d0#heamy-multiple-stacking\n",
        "### 「pystacknet」の参考ＵＲＬ\n",
        "- https://github.com/h2oai/pystacknet/tree/af571e0b5517470563859a15eafb87b594e766eb\n"
      ]
    },
    {
      "cell_type": "code",
      "metadata": {
        "colab_type": "code",
        "id": "Fj8ZVtJgtA0B",
        "colab": {}
      },
      "source": [
        "#環境設定\n",
        "\n",
        "\n",
        "from heamy.dataset import Dataset\n",
        "from heamy.estimator import Regressor\n",
        "from heamy.estimator import Classifier\n",
        "from heamy.pipeline import ModelsPipeline\n",
        "\n",
        "from sklearn.linear_model import LogisticRegression\n",
        "from sklearn.metrics import mean_absolute_error\n"
      ],
      "execution_count": 0,
      "outputs": []
    },
    {
      "cell_type": "code",
      "metadata": {
        "colab_type": "code",
        "id": "w-5-cekithRy",
        "colab": {}
      },
      "source": [
        "#Single Stacking\n",
        "\n",
        "seed=0\n",
        "\n",
        "dataset = Dataset(X_train, y_train, X_test) # datasetの準備\n",
        "models = [\n",
        "    Classifier(dataset=dataset, estimator=RandomForestClassifier, parameters=(rfc_best_param), name='rf'),\n",
        "    Classifier(dataset=dataset, estimator=ExtraTreesClassifier, parameters=(etc_best_param), name='et'),\n",
        "    Classifier(dataset=dataset, estimator=XGBClassifier, parameters=(xgb_best_param), name='xg'),\n",
        "    Classifier(dataset=dataset, estimator=LGBMClassifier, parameters=(lgb_best_param), name='lg')\n",
        "]\n",
        "#ステージ0の設定\n",
        "# アンサンブルに使うモデルを定義\n",
        "#「models」はスタッキングで利用する変数\n",
        "\n",
        "pipeline = ModelsPipeline(*models)\n",
        "stack_ds = pipeline.stack(k=10, seed=seed)\n",
        "# pipelineを定義、ステージ1の準備\n",
        "\n",
        "\n",
        "stacker = Classifier(dataset=stack_ds, estimator=LogisticRegression)\n",
        "y_trues, y_preds = stacker.validate(k=10)\n",
        "#ステージ1の設定\n",
        "#「estimator」は回帰分類は「LinearRegression(線形回帰)」\n",
        "#クラス分けは「LogisticRegression(ロジスティック回帰)」\n",
        "#ステージ1では、回帰問題においては線形回帰、分類問題においてはロジスティック回帰なども選択されますが、勾配ブースティングやランダムフォレストなどより複雑な学習器が使われることもあります。\n",
        "\n",
        "\n",
        "train_sstacking=np.mean([accuracy_score(y_trues[ii],np.argmax(y_preds[ii],axis=1)) for ii in range(len(y_trues))])\n",
        "#「train」モデルの正答率\n",
        "pred=stacker.predict()\n",
        "sstacking_result=accuracy_score(y_test,np.argmax(pred,axis=1))\n",
        "#予想モデルの正答率\n",
        "\n",
        "'''\n",
        "# 精度出力\n",
        "cv_results = []\n",
        "for y_true, y_pred in zip(y_trues, y_preds):\n",
        "    y_pred_max = np.argmax(y_pred, axis=1)  # 最尤と判断したクラスの値にする\n",
        "    cv_result = mean_absolute_error(y_true, y_pred_max)\n",
        "    cv_results.append(cv_result)\n",
        "\n",
        "1-np.mean(cv_results)\n",
        "#「single stacking」の精度\n",
        "#この結果はあくまで「TRAIN」データである\n",
        "'''\n",
        "\n",
        "\n"
      ],
      "execution_count": 0,
      "outputs": []
    },
    {
      "cell_type": "code",
      "metadata": {
        "colab_type": "code",
        "id": "20ctNl_ZOGjq",
        "colab": {}
      },
      "source": [
        "#「weight average」\n",
        "\n",
        "from sklearn.metrics import log_loss\n",
        "\n",
        "# 最適な重みを探索\n",
        "weights = pipeline.find_weights(log_loss)\n",
        "pipeline_apply = pipeline.weight(weights)\n",
        "\n",
        "cv_results = pipeline_apply.validate(scorer=log_loss, k=10)\n",
        "train_wa=1-np.mean(cv_results)\n",
        "#これが「train」データの正答率\n",
        "\n",
        "\n",
        "y_pred = pipeline_apply.execute()\n",
        "y_pred_max = np.argmax(y_pred, axis=1)  # 最尤と判断したクラスの値にする\n",
        "weight_average_result=accuracy_score(y_pred_max,y_test)\n",
        "#これが「test」データの正答率\n",
        "\n"
      ],
      "execution_count": 0,
      "outputs": []
    },
    {
      "cell_type": "code",
      "metadata": {
        "colab_type": "code",
        "id": "ACAXDPDAWHEx",
        "colab": {}
      },
      "source": [
        "# pipelineを定義、2nd levelデータセットの作成\n",
        "pipeline2 = ModelsPipeline(*models)\n",
        "stack_ds = pipeline2.stack(k=10, seed=seed)\n",
        "\n",
        "# modelを作ってvalidation\n",
        "#「estimator」は「LinearRegression(線形回帰)」でも「LogisticRegression(ロジスティック回帰)」でもどちらでもよい\n",
        "stacker = Classifier(dataset=stack_ds, estimator=LogisticRegression)\n",
        "y_trues, y_preds = stacker.validate(k=10)\n",
        "\n",
        "\n",
        "\n",
        "train_mstacking=np.mean([accuracy_score(y_trues[ii],np.argmax(y_preds[ii],axis=1)) for ii in range(len(y_trues))])\n",
        "#「train」モデルの正答率\n",
        "pred=stacker.predict()\n",
        "mstacking_result=accuracy_score(y_test,np.argmax(pred,axis=1))\n",
        "#「test」データの正答率\n",
        "\n",
        "'''\n",
        "# 精度出力\n",
        "cv_results = []\n",
        "for y_true, y_pred in zip(y_trues, y_preds):\n",
        "    y_pred_max = np.argmax(y_pred, axis=1)  # 最尤と判断したクラスの値にする\n",
        "    cv_result = mean_absolute_error(y_true, y_pred_max)\n",
        "    #cv_result = accuracy_score(y_true, y_pred_max)\n",
        "    \n",
        "    cv_results.append(cv_result)\n",
        "\n",
        "1-np.mean(cv_results)\n",
        "'''\n",
        "\n"
      ],
      "execution_count": 0,
      "outputs": []
    },
    {
      "cell_type": "markdown",
      "metadata": {
        "colab_type": "text",
        "id": "3KIRbo7zhsyo"
      },
      "source": [
        "#stacknet\n",
        "1. 環境設定\n",
        ">必要なライブラリをimport\n",
        "2. 階層の準備\n",
        ">level1とlevel2の変数を用意する\n",
        "3. モデルの準備\n",
        "4. 予測 \n",
        ">「train」と「test」のそれぞれの予測正答率"
      ]
    },
    {
      "cell_type": "code",
      "metadata": {
        "colab_type": "code",
        "id": "WcfkxLewVZBJ",
        "colab": {}
      },
      "source": [
        "#環境設定\n",
        "from pystacknet.pystacknet import StackNetClassifier"
      ],
      "execution_count": 0,
      "outputs": []
    },
    {
      "cell_type": "code",
      "metadata": {
        "colab_type": "code",
        "id": "5MS7wjQ3lLuG",
        "colab": {}
      },
      "source": [
        "#stacknetの階層を準備する\n",
        "#もちろん、この階層をチューニングすることもできる\n",
        "level1=[x[1] for x in estimators]\n",
        "#「estimators」は「クラス分けモデル」の最後に設定した変数をそのまま利用している\n",
        "level2=[RandomForestClassifier(**rfc_best_param)]\n",
        "#二層目のモデルは簡単なものが一番だと思う\n",
        "models=[level1,level2]\n"
      ],
      "execution_count": 0,
      "outputs": []
    },
    {
      "cell_type": "code",
      "metadata": {
        "colab_type": "code",
        "id": "nmHjYzrGfO5D",
        "colab": {}
      },
      "source": [
        "#モデルの準備\n",
        "#今回はマルチクラス分けなので「logloss」を利用する\n",
        "model=StackNetClassifier(models, metric=\"logloss\", folds=5,\n",
        "\trestacking=False,use_retraining=True, use_proba=True, \n",
        "\trandom_state=12345,n_jobs=1, verbose=1)\n",
        "\n",
        "#ここの「metric」は別で用意した関数を利用することができる\n",
        "#なので「scikit-learn」の関数である、「metric=log_loss」のような使い方もできる"
      ],
      "execution_count": 0,
      "outputs": []
    },
    {
      "cell_type": "code",
      "metadata": {
        "colab_type": "code",
        "id": "J_AWaMson-54",
        "colab": {}
      },
      "source": [
        "model.fit(X_train, y_train)\n",
        "train_pred=model.predict_proba(X_train)\n",
        "train_stacknet=accuracy_score(y_train,np.argmax(train_pred,axis=1))\n",
        "#まずは「train」データの正答率\n",
        "\n",
        "\n",
        "\n",
        "preds=model.predict_proba(X_test)\n",
        "  \n",
        "stacknet_result=accuracy_score( y_test,np.argmax(preds, axis=1))\n",
        "\n",
        "\n"
      ],
      "execution_count": 0,
      "outputs": []
    },
    {
      "cell_type": "code",
      "metadata": {
        "colab_type": "code",
        "id": "8PYeOR-5py-X",
        "colab": {}
      },
      "source": [
        "\n",
        "sta_train_list=[train_sstacking,train_wa,train_mstacking,train_stacknet]\n",
        "train_result.extend(sta_test_list)\n",
        "#「train」データ\n",
        "\n",
        "sta_test_list =[sstacking_result,weight_average_result,mstacking_result,stacknet_result]\n",
        "RESULT.extend(sta_test_list)\n",
        "#「test」データ\n",
        "\n",
        "stack_names=['sstacking','wa','mstacking','stacknet']\n",
        "model_names.extend(stack_names)\n",
        "#model_names"
      ],
      "execution_count": 0,
      "outputs": []
    },
    {
      "cell_type": "code",
      "metadata": {
        "colab_type": "code",
        "id": "8uu3jy42sxq4",
        "colab": {}
      },
      "source": [
        "res_df=pd.DataFrame([model_names,train_result,RESULT]).T\n",
        "res_df.columns=['name','train','test']"
      ],
      "execution_count": 0,
      "outputs": []
    },
    {
      "cell_type": "code",
      "metadata": {
        "colab_type": "code",
        "id": "jjKBFDL5wjRf",
        "colab": {}
      },
      "source": [
        "res_df\n"
      ],
      "execution_count": 0,
      "outputs": []
    },
    {
      "cell_type": "code",
      "metadata": {
        "colab_type": "code",
        "id": "ksoekZeXwSiN",
        "colab": {}
      },
      "source": [
        ""
      ],
      "execution_count": 0,
      "outputs": []
    },
    {
      "cell_type": "markdown",
      "metadata": {
        "colab_type": "text",
        "id": "pAF_0Bp0i2R_"
      },
      "source": [
        "# a"
      ]
    },
    {
      "cell_type": "code",
      "metadata": {
        "colab_type": "code",
        "id": "FGQ5qS7C-9bg",
        "colab": {}
      },
      "source": [
        ""
      ],
      "execution_count": 0,
      "outputs": []
    },
    {
      "cell_type": "code",
      "metadata": {
        "colab_type": "code",
        "id": "VokS6-ZQ56D3",
        "colab": {}
      },
      "source": [
        "cmx=confusion_matrix(y_pred_max, y_test)"
      ],
      "execution_count": 0,
      "outputs": []
    },
    {
      "cell_type": "code",
      "metadata": {
        "colab_type": "code",
        "id": "t48irT9a7lWy",
        "colab": {}
      },
      "source": [
        "plot_confusion_matrix(model, X_test, y_test,\n",
        "                      #display_labels=wine.target_names, \n",
        "                      cmap=plt.cm.Blues,)"
      ],
      "execution_count": 0,
      "outputs": []
    },
    {
      "cell_type": "code",
      "metadata": {
        "colab_type": "code",
        "id": "Maikbv4S8VCn",
        "colab": {}
      },
      "source": [
        "import matplotlib.pyplot as plt\n",
        "from sklearn.metrics import confusion_matrix, ConfusionMatrixDisplay\n",
        "\n",
        "\n",
        "cmd = ConfusionMatrixDisplay(cmx, y_test)\n",
        "cmd.plot()\n"
      ],
      "execution_count": 0,
      "outputs": []
    }
  ]
}